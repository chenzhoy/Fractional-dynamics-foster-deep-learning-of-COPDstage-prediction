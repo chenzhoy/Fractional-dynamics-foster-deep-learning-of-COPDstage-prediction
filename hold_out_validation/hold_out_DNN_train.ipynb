{
  "nbformat": 4,
  "nbformat_minor": 0,
  "metadata": {
    "colab": {
      "name": "hold_out_DNN_train.ipynb",
      "provenance": []
    },
    "kernelspec": {
      "name": "python3",
      "display_name": "Python 3"
    },
    "language_info": {
      "name": "python"
    }
  },
  "cells": [
    {
      "cell_type": "code",
      "metadata": {
        "id": "hmO_StwbBXqE"
      },
      "source": [
        "import numpy as np\n",
        "from keras.utils.np_utils import to_categorical\n",
        "import pandas as pd\n",
        "from sklearn.model_selection import train_test_split\n",
        "from sklearn.model_selection import KFold\n",
        "from sklearn.preprocessing import MinMaxScaler\n",
        "import matplotlib.pyplot as plt\n",
        "from keras import models\n",
        "from keras import layers\n",
        "from keras import regularizers\n",
        "from keras.layers import Dropout"
      ],
      "execution_count": 1,
      "outputs": []
    },
    {
      "cell_type": "code",
      "metadata": {
        "colab": {
          "base_uri": "https://localhost:8080/"
        },
        "id": "9kH3DhiPBkcg",
        "outputId": "30a05d0b-aefd-41dd-cb50-0d78467f333a"
      },
      "source": [
        "from google.colab import drive\n",
        "drive.mount(\"/content/drive\")"
      ],
      "execution_count": 2,
      "outputs": [
        {
          "output_type": "stream",
          "text": [
            "Mounted at /content/drive\n"
          ],
          "name": "stdout"
        }
      ]
    },
    {
      "cell_type": "code",
      "metadata": {
        "id": "dqCbLHuBBlkI"
      },
      "source": [
        "X_test=np.load(\"/content/drive/My Drive/New_version_copd/vb_raw_data.npy\")\n",
        "m1=np.load(\"/content/drive/My Drive/New_version_copd/md1_raw_data.npy\")\n",
        "m2=np.load(\"/content/drive/My Drive/New_version_copd/md2_raw_data.npy\")\n",
        "m3=np.load(\"/content/drive/My Drive/New_version_copd/cp_raw_data.npy\")\n",
        "X_train=np.vstack((m1,m2,m3))"
      ],
      "execution_count": 8,
      "outputs": []
    },
    {
      "cell_type": "code",
      "metadata": {
        "id": "UhJQLTWoCeSi"
      },
      "source": [
        "y_train=X_train[:,-1]\n",
        "X_train=X_train[:,:-1]\n",
        "y_test=X_test[:,-1]\n",
        "X_test=X_test[:,:-1]"
      ],
      "execution_count": 9,
      "outputs": []
    },
    {
      "cell_type": "code",
      "metadata": {
        "id": "CGfelctNMpoB"
      },
      "source": [
        "\n",
        "X_test_list=[]\n",
        "y_test_list=[]\n",
        "test_loss=[]\n",
        "train_loss=[]\n",
        "test_acc=[]\n",
        "train_acc=[]\n",
        "test_auc=[]\n",
        "train_auc=[]\n",
        "#X_train=pd.DataFrame(data=X_train)\n",
        "#y_train=pd.DataFrame(data=y_train)\n",
        "#y_test=pd.DataFrame(data=y_test)\n",
        "#X_test=pd.DataFrame(data=X_test)  \n",
        "one_hot_train_labels = to_categorical(y_train)\n",
        "one_hot_test_labels = to_categorical(y_test)\n",
        "X_test_list.append(X_test)\n",
        "y_test_list.append(one_hot_test_labels)\n",
        "\n",
        "\n",
        "model = models.Sequential()\n",
        "model.add(layers.Dense(300, activation='relu', input_shape=(72000,)))\n",
        "#model.add(Dropout(0.2))\n",
        "model.add(layers.Dense(100, activation='relu'))\n",
        "#model.add(Dropout(0.2))\n",
        "model.add(layers.Dense(5, activation='softmax'))\n",
        "# model.add(layers.InputLayer(input_shape=(600,120)))\n",
        "# model.add(layers.LSTM(150))\n",
        "# model.add(Dropout(0.2))\n",
        "# model.add(layers.Dense(100,activation='relu'))\n",
        "# model.add(Dropout(0.2))\n",
        "\n",
        "# model.add(layers.Dense(5, activation='softmax'))\n",
        "\n",
        "\n",
        "\n",
        "model.compile(optimizer='rmsprop', loss='categorical_crossentropy', metrics=['accuracy', 'AUC'])\n",
        "history = model.fit(X_train, one_hot_train_labels, epochs=500, batch_size=64, validation_data=(X_test, one_hot_test_labels))\n",
        "loss = history.history['loss']\n",
        "val_loss = history.history['val_loss']\n",
        "train_loss.append(loss)\n",
        "test_loss.append(val_loss)\n",
        "train_acc_1=history.history['accuracy']\n",
        "val_acc = history.history['val_accuracy']\n",
        "test_acc.append(val_acc)\n",
        "train_acc.append(train_acc_1)\n",
        "a=history.history['auc']\n",
        "b=history.history['val_auc']\n",
        "test_auc.append(b)\n",
        "train_auc.append(a)\n",
        "np.save('/content/drive/MyDrive/New_version_copd/train_loss_vb',train_loss)\n",
        "np.save('/content/drive/MyDrive/New_version_copd/test_loss_vb',test_loss)\n",
        "np.save('/content/drive/MyDrive/New_version_copd/train_acc_vb',train_acc)\n",
        "np.save('/content/drive/MyDrive/New_version_copd/test_acc_vb',test_acc)\n",
        "np.save('/content/drive/MyDrive/New_version_copd/train_auc_vb',train_auc)\n",
        "np.save('/content/drive/MyDrive/New_version_copd/test_auc_vb',test_auc)"
      ],
      "execution_count": null,
      "outputs": []
    },
    {
      "cell_type": "code",
      "metadata": {
        "id": "cY9-JasHCSRc"
      },
      "source": [
        "X_test=np.load(\"/content/drive/My Drive/New_version_copd/md1_raw_data.npy\")\n",
        "m1=np.load(\"/content/drive/My Drive/New_version_copd/vb_raw_data.npy\")\n",
        "m2=np.load(\"/content/drive/My Drive/New_version_copd/md2_raw_data.npy\")\n",
        "m3=np.load(\"/content/drive/My Drive/New_version_copd/cp_raw_data.npy\")\n",
        "X_train=np.vstack((m1,m2,m3))\n",
        "y_train=X_train[:,-1]\n",
        "X_train=X_train[:,:-1]\n",
        "y_test=X_test[:,-1]\n",
        "X_test=X_test[:,:-1]"
      ],
      "execution_count": null,
      "outputs": []
    },
    {
      "cell_type": "code",
      "metadata": {
        "id": "z1gx16dJCTia"
      },
      "source": [
        "\n",
        "X_test_list=[]\n",
        "y_test_list=[]\n",
        "test_loss=[]\n",
        "train_loss=[]\n",
        "test_acc=[]\n",
        "train_acc=[]\n",
        "test_auc=[]\n",
        "train_auc=[]\n",
        "#X_train=pd.DataFrame(data=X_train)\n",
        "#y_train=pd.DataFrame(data=y_train)\n",
        "#y_test=pd.DataFrame(data=y_test)\n",
        "#X_test=pd.DataFrame(data=X_test)  \n",
        "one_hot_train_labels = to_categorical(y_train)\n",
        "one_hot_test_labels = to_categorical(y_test)\n",
        "X_test_list.append(X_test)\n",
        "y_test_list.append(one_hot_test_labels)\n",
        "\n",
        "\n",
        "model = models.Sequential()\n",
        "model.add(layers.Dense(300, activation='relu', input_shape=(72000,)))\n",
        "#model.add(Dropout(0.2))\n",
        "model.add(layers.Dense(100, activation='relu'))\n",
        "#model.add(Dropout(0.2))\n",
        "model.add(layers.Dense(5, activation='softmax'))\n",
        "\n",
        "\n",
        "\n",
        "\n",
        "model.compile(optimizer='rmsprop', loss='categorical_crossentropy', metrics=['accuracy', 'AUC'])\n",
        "history = model.fit(X_train, one_hot_train_labels, epochs=500, batch_size=64, validation_data=(X_test, one_hot_test_labels))\n",
        "loss = history.history['loss']\n",
        "val_loss = history.history['val_loss']\n",
        "train_loss.append(loss)\n",
        "test_loss.append(val_loss)\n",
        "train_acc_1=history.history['accuracy']\n",
        "val_acc = history.history['val_accuracy']\n",
        "test_acc.append(val_acc)\n",
        "train_acc.append(train_acc_1)\n",
        "a=history.history['auc']\n",
        "b=history.history['val_auc']\n",
        "test_auc.append(b)\n",
        "train_auc.append(a)\n",
        "np.save('/content/drive/MyDrive/New_version_copd/train_loss_md1',train_loss)\n",
        "np.save('/content/drive/MyDrive/New_version_copd/test_loss_md1',test_loss)\n",
        "np.save('/content/drive/MyDrive/New_version_copd/train_acc_md1',train_acc)\n",
        "np.save('/content/drive/MyDrive/New_version_copd/test_acc_md1',test_acc)\n",
        "np.save('/content/drive/MyDrive/New_version_copd/train_auc_md1',train_auc)\n",
        "np.save('/content/drive/MyDrive/New_version_copd/test_auc_md1',test_auc)"
      ],
      "execution_count": null,
      "outputs": []
    },
    {
      "cell_type": "code",
      "metadata": {
        "id": "5IZi7tRXG68-"
      },
      "source": [
        "X_test=np.load(\"/content/drive/My Drive/New_version_copd/md2_raw_data.npy\")\n",
        "m1=np.load(\"/content/drive/My Drive/New_version_copd/vb_raw_data.npy\")\n",
        "m2=np.load(\"/content/drive/My Drive/New_version_copd/md1_raw_data.npy\")\n",
        "m3=np.load(\"/content/drive/My Drive/New_version_copd/cp_raw_data.npy\")\n",
        "X_train=np.vstack((m1,m2,m3))\n",
        "y_train=X_train[:,-1]\n",
        "X_train=X_train[:,:-1]\n",
        "y_test=X_test[:,-1]\n",
        "X_test=X_test[:,:-1]"
      ],
      "execution_count": null,
      "outputs": []
    },
    {
      "cell_type": "code",
      "metadata": {
        "id": "psPwjVAeG6_f"
      },
      "source": [
        "X_test_list=[]\n",
        "y_test_list=[]\n",
        "test_loss=[]\n",
        "train_loss=[]\n",
        "test_acc=[]\n",
        "train_acc=[]\n",
        "test_auc=[]\n",
        "train_auc=[]\n",
        "#X_train=pd.DataFrame(data=X_train)\n",
        "#y_train=pd.DataFrame(data=y_train)\n",
        "#y_test=pd.DataFrame(data=y_test)\n",
        "#X_test=pd.DataFrame(data=X_test)  \n",
        "one_hot_train_labels = to_categorical(y_train)\n",
        "one_hot_test_labels = to_categorical(y_test)\n",
        "X_test_list.append(X_test)\n",
        "y_test_list.append(one_hot_test_labels)\n",
        "\n",
        "\n",
        "model = models.Sequential()\n",
        "model.add(layers.Dense(300, activation='relu', input_shape=(72000,)))\n",
        "#model.add(Dropout(0.2))\n",
        "model.add(layers.Dense(100, activation='relu'))\n",
        "#model.add(Dropout(0.2))\n",
        "model.add(layers.Dense(5, activation='softmax'))\n",
        "\n",
        "\n",
        "\n",
        "model.compile(optimizer='rmsprop', loss='categorical_crossentropy', metrics=['accuracy', 'AUC'])\n",
        "history = model.fit(X_train, one_hot_train_labels, epochs=500, batch_size=64, validation_data=(X_test, one_hot_test_labels))\n",
        "loss = history.history['loss']\n",
        "val_loss = history.history['val_loss']\n",
        "train_loss.append(loss)\n",
        "test_loss.append(val_loss)\n",
        "train_acc_1=history.history['accuracy']\n",
        "val_acc = history.history['val_accuracy']\n",
        "test_acc.append(val_acc)\n",
        "train_acc.append(train_acc_1)\n",
        "a=history.history['auc']\n",
        "b=history.history['val_auc']\n",
        "test_auc.append(b)\n",
        "train_auc.append(a)\n",
        "np.save('/content/drive/MyDrive/New_version_copd/train_loss_md2',train_loss)\n",
        "np.save('/content/drive/MyDrive/New_version_copd/test_loss_md2',test_loss)\n",
        "np.save('/content/drive/MyDrive/New_version_copd/train_acc_md2',train_acc)\n",
        "np.save('/content/drive/MyDrive/New_version_copd/test_acc_md2',test_acc)\n",
        "np.save('/content/drive/MyDrive/New_version_copd/train_auc_md2',train_auc)\n",
        "np.save('/content/drive/MyDrive/New_version_copd/test_auc_md2',test_auc)"
      ],
      "execution_count": null,
      "outputs": []
    },
    {
      "cell_type": "code",
      "metadata": {
        "id": "0o3VcepbG7B-"
      },
      "source": [
        "X_test=np.load(\"/content/drive/My Drive/New_version_copd/cp_raw_data.npy\")\n",
        "m1=np.load(\"/content/drive/My Drive/New_version_copd/vb_raw_data.npy\")\n",
        "m2=np.load(\"/content/drive/My Drive/New_version_copd/md1_raw_data.npy\")\n",
        "m3=np.load(\"/content/drive/My Drive/New_version_copd/md2_raw_data.npy\")\n",
        "X_train=np.vstack((m1,m2,m3))\n",
        "y_train=X_train[:,-1]\n",
        "X_train=X_train[:,:-1]\n",
        "y_test=X_test[:,-1]\n",
        "X_test=X_test[:,:-1]"
      ],
      "execution_count": null,
      "outputs": []
    },
    {
      "cell_type": "code",
      "metadata": {
        "id": "XSQqDyEUHIXq"
      },
      "source": [
        "X_test_list=[]\n",
        "y_test_list=[]\n",
        "test_loss=[]\n",
        "train_loss=[]\n",
        "test_acc=[]\n",
        "train_acc=[]\n",
        "test_auc=[]\n",
        "train_auc=[]\n",
        "#X_train=pd.DataFrame(data=X_train)\n",
        "#y_train=pd.DataFrame(data=y_train)\n",
        "#y_test=pd.DataFrame(data=y_test)\n",
        "#X_test=pd.DataFrame(data=X_test)  \n",
        "one_hot_train_labels = to_categorical(y_train)\n",
        "one_hot_test_labels = to_categorical(y_test)\n",
        "X_test_list.append(X_test)\n",
        "y_test_list.append(one_hot_test_labels)\n",
        "\n",
        "\n",
        "model = models.Sequential()\n",
        "model.add(layers.Dense(300, activation='relu', input_shape=(72000,)))\n",
        "#model.add(Dropout(0.2))\n",
        "model.add(layers.Dense(100, activation='relu'))\n",
        "#model.add(Dropout(0.2))\n",
        "model.add(layers.Dense(5, activation='softmax'))\n",
        "\n",
        "\n",
        "\n",
        "model.compile(optimizer='rmsprop', loss='categorical_crossentropy', metrics=['accuracy', 'AUC'])\n",
        "history = model.fit(X_train, one_hot_train_labels, epochs=500, batch_size=64, validation_data=(X_test, one_hot_test_labels))\n",
        "loss = history.history['loss']\n",
        "val_loss = history.history['val_loss']\n",
        "train_loss.append(loss)\n",
        "test_loss.append(val_loss)\n",
        "train_acc_1=history.history['accuracy']\n",
        "val_acc = history.history['val_accuracy']\n",
        "test_acc.append(val_acc)\n",
        "train_acc.append(train_acc_1)\n",
        "a=history.history['auc']\n",
        "b=history.history['val_auc']\n",
        "test_auc.append(b)\n",
        "train_auc.append(a)\n",
        "np.save('/content/drive/MyDrive/New_version_copd/train_loss_cp',train_loss)\n",
        "np.save('/content/drive/MyDrive/New_version_copd/test_loss_cp',test_loss)\n",
        "np.save('/content/drive/MyDrive/New_version_copd/train_acc_cp',train_acc)\n",
        "np.save('/content/drive/MyDrive/New_version_copd/test_acc_cp',test_acc)\n",
        "np.save('/content/drive/MyDrive/New_version_copd/train_auc_cp',train_auc)\n",
        "np.save('/content/drive/MyDrive/New_version_copd/test_auc_cp',test_auc)"
      ],
      "execution_count": null,
      "outputs": []
    },
    {
      "cell_type": "code",
      "metadata": {
        "id": "yro-EKjiHTxt"
      },
      "source": [
        "\n",
        "\n",
        "train_loss=np.load('/content/drive/MyDrive/New_version_copd/train_loss_vb.npy')\n",
        "test_loss=np.load('/content/drive/MyDrive/New_version_copd/test_loss_vb.npy')\n",
        "train_acc=np.load('/content/drive/MyDrive/New_version_copd/train_acc_vb.npy')\n",
        "test_acc=np.load('/content/drive/MyDrive/New_version_copd/test_acc_vb.npy')\n",
        "train_auc=np.load('/content/drive/MyDrive/New_version_copd/train_auc_vb.npy')\n",
        "test_auc=np.load('/content/drive/MyDrive/New_version_copd/test_auc_vb.npy')\n",
        "\n",
        "train_loss=np.vstack((train_loss,np.load('/content/drive/MyDrive/New_version_copd/train_loss_mb1.npy')))\n",
        "test_loss=np.vstack((test_loss,np.load('/content/drive/MyDrive/New_version_copd/test_loss_mb1.npy')))\n",
        "train_acc=np.vstack((train_acc,np.load('/content/drive/MyDrive/New_version_copd/train_acc_mb1.npy')))\n",
        "test_acc=np.vstack((test_acc,np.load('/content/drive/MyDrive/New_version_copd/test_acc_mb1.npy')))\n",
        "train_auc=np.vstack((train_auc,np.load('/content/drive/MyDrive/New_version_copd/train_auc_mb1.npy')))\n",
        "test_auc=np.vstack((test_auc,np.load('/content/drive/MyDrive/New_version_copd/test_auc_mb1.npy')))\n",
        "\n",
        "train_loss=np.vstack((train_loss,np.load('/content/drive/MyDrive/New_version_copd/train_loss_mb2.npy')))\n",
        "test_loss=np.vstack((test_loss,np.load('/content/drive/MyDrive/New_version_copd/test_loss_mb2.npy')))\n",
        "train_acc=np.vstack((train_acc,np.load('/content/drive/MyDrive/New_version_copd/train_acc_mb2.npy')))\n",
        "test_acc=np.vstack((test_acc,np.load('/content/drive/MyDrive/New_version_copd/test_acc_mb2.npy')))\n",
        "train_auc=np.vstack((train_auc,np.load('/content/drive/MyDrive/New_version_copd/train_auc_mb2.npy')))\n",
        "test_auc=np.vstack((test_auc,np.load('/content/drive/MyDrive/New_version_copd/test_auc_mb2.npy')))\n",
        "\n",
        "train_loss=np.vstack((train_loss,np.load('/content/drive/MyDrive/New_version_copd/train_loss_cp.npy')))\n",
        "test_loss=np.vstack((test_loss,np.load('/content/drive/MyDrive/New_version_copd/test_loss_cp.npy')))\n",
        "train_acc=np.vstack((train_acc,np.load('/content/drive/MyDrive/New_version_copd/train_acc_cp.npy')))\n",
        "test_acc=np.vstack((test_acc,np.load('/content/drive/MyDrive/New_version_copd/test_acc_cp.npy')))\n",
        "train_auc=np.vstack((train_auc,np.load('/content/drive/MyDrive/New_version_copd/train_auc_cp.npy')))\n",
        "test_auc=np.vstack((test_auc,np.load('/content/drive/MyDrive/New_version_copd/test_auc_cp.npy')))"
      ],
      "execution_count": 11,
      "outputs": []
    },
    {
      "cell_type": "code",
      "metadata": {
        "id": "WSvELnqFH230"
      },
      "source": [
        "def smooth_curve(points, factor=0.9):\n",
        "    smoothed_points = []\n",
        "    for point in points:\n",
        "        if smoothed_points:\n",
        "            previous = smoothed_points[-1]\n",
        "            smoothed_points.append(previous * factor + point * (1 - factor))\n",
        "        else:\n",
        "            smoothed_points.append(point)\n",
        "    return smoothed_points"
      ],
      "execution_count": 12,
      "outputs": []
    },
    {
      "cell_type": "code",
      "metadata": {
        "colab": {
          "base_uri": "https://localhost:8080/",
          "height": 387
        },
        "id": "LaHfdgl5HsN3",
        "outputId": "b7b0b0ac-2889-4585-fc91-1c25ef04d98e"
      },
      "source": [
        "epochs = range(1, 500 + 1)\n",
        "train_auc_min=[]\n",
        "train_auc_max=[]\n",
        "train_auc_mean=[]\n",
        "for i in range(0, 500):\n",
        "    maxv=max(train_auc[0][i],train_auc[1][i],train_auc[2][i],train_auc[3][i])\n",
        "    minv=min(train_auc[0][i],train_auc[1][i],train_auc[2][i],train_auc[3][i])\n",
        "    meanv=(train_auc[0][i]+train_auc[1][i]+train_auc[2][i]+train_auc[3][i]) /4\n",
        "    train_auc_min.append(minv)\n",
        "    train_auc_max.append(maxv)\n",
        "    train_auc_mean.append(meanv)\n",
        "test_auc_min=[]\n",
        "test_auc_max=[]\n",
        "test_auc_mean=[]\n",
        "for i in range(0, 500):\n",
        "    maxv=max(test_auc[0][i],test_auc[1][i],test_auc[2][i],test_auc[3][i])\n",
        "    minv=min(test_auc[0][i],test_auc[1][i],test_auc[2][i],test_auc[3][i])\n",
        "    meanv=(test_auc[0][i]+test_auc[1][i]+test_auc[2][i]+test_auc[3][i]) /4\n",
        "    test_auc_min.append(minv)\n",
        "    test_auc_max.append(maxv)\n",
        "    test_auc_mean.append(meanv)\n",
        "\n",
        "i=499\n",
        "w = np.array([test_auc[0][i],test_auc[1][i],test_auc[2][i],test_auc[3][i]])\n",
        "s=np.std(w)\n",
        "meanv=np.mean(w)\n",
        "print(s, meanv)\n",
        "\n",
        "f=plt.figure(figsize=[7,5])\n",
        "plt.plot(epochs, smooth_curve(train_auc_mean), 'k', color='mediumslateblue',label='Training auc')\n",
        "plt.fill_between(epochs, smooth_curve(train_auc_min), smooth_curve(train_auc_max),alpha=0.5, facecolor='mediumslateblue')\n",
        "plt.plot(epochs, smooth_curve(test_auc_mean), 'k', color='plum',label='Testing auc')\n",
        "plt.fill_between(epochs, smooth_curve(test_auc_min), smooth_curve(test_auc_max),alpha=0.5, facecolor='plum')\n",
        "plt.title('Training and testing auc',fontsize=20)\n",
        "plt.xlabel('Epochs',fontsize=20)\n",
        "plt.ylabel('Auc',fontsize=20)\n",
        "plt.xticks(fontsize=15)\n",
        "plt.yticks(fontsize=15)\n",
        "#plt.legend([\"train\",\"test\"],loc=\"upper left\")\n",
        "plt.legend(loc = 4,fontsize=15)\n",
        "#plt.savefig('/content/drive/My Drive/Colab Notebooks/ML/Trainingauc.png', dpi=600)\n",
        "plt.show()"
      ],
      "execution_count": 13,
      "outputs": [
        {
          "output_type": "stream",
          "text": [
            "0.009707395352569316 0.9793887436389923\n"
          ],
          "name": "stdout"
        },
        {
          "output_type": "display_data",
          "data": {
            "image/png": "[encoded data removed]",
            "text/plain": [
              "<Figure size 504x360 with 1 Axes>"
            ]
          },
          "metadata": {
            "tags": [],
            "needs_background": "light"
          }
        }
      ]
    },
    {
      "cell_type": "code",
      "metadata": {
        "colab": {
          "base_uri": "https://localhost:8080/",
          "height": 387
        },
        "id": "OKusn46pHvGd",
        "outputId": "6faa2d36-4eea-4a51-826b-804ba11bea64"
      },
      "source": [
        "train_acc_min=[]\n",
        "train_acc_max=[]\n",
        "train_acc_mean=[]\n",
        "for i in range(0, 500):\n",
        "    maxv=max(train_acc[0][i],train_acc[1][i],train_acc[2][i],train_acc[3][i])\n",
        "    minv=min(train_acc[0][i],train_acc[1][i],train_acc[2][i],train_acc[3][i])\n",
        "    meanv=(train_acc[0][i]+train_acc[1][i]+train_acc[2][i]+train_acc[3][i]) /4\n",
        "    train_acc_min.append(minv)\n",
        "    train_acc_max.append(maxv)\n",
        "    train_acc_mean.append(meanv)\n",
        "\n",
        "test_acc_min=[]\n",
        "test_acc_max=[]\n",
        "test_acc_mean=[]\n",
        "for i in range(0, 500):\n",
        "    maxv=max(test_acc[0][i],test_acc[1][i],test_acc[2][i],test_acc[3][i])\n",
        "    minv=min(test_acc[0][i],test_acc[1][i],test_acc[2][i],test_acc[3][i])\n",
        "    meanv=(test_acc[0][i]+test_acc[1][i]+test_acc[2][i]+test_acc[3][i]) /4\n",
        "    test_acc_min.append(minv)\n",
        "    test_acc_max.append(maxv)\n",
        "    test_acc_mean.append(meanv)\n",
        "i=499\n",
        "w = np.array([test_acc[0][i],test_acc[1][i],test_acc[2][i],test_acc[3][i]])\n",
        "s=np.std(w)\n",
        "meanv=np.mean(w)\n",
        "print(s, meanv)\n",
        "f=plt.figure(figsize=[7,5])\n",
        "plt.plot(epochs, smooth_curve(train_acc_mean), 'k', color='mediumslateblue',label='Training acc')\n",
        "plt.fill_between(epochs, smooth_curve(train_acc_min), smooth_curve(train_acc_max),alpha=0.5, facecolor='mediumslateblue')\n",
        "plt.plot(epochs, smooth_curve(test_acc_mean), 'k', color='plum',label='Testing acc')\n",
        "plt.fill_between(epochs, smooth_curve(test_acc_min), smooth_curve(test_acc_max),alpha=0.5, facecolor='plum')\n",
        "plt.title('Training and testing accuracy',fontsize=20)\n",
        "plt.xlabel('Epochs',fontsize=20)\n",
        "plt.ylabel('Accuracy',fontsize=20)\n",
        "plt.xticks(fontsize=15)\n",
        "plt.yticks(fontsize=15)\n",
        "#plt.legend([\"train\",\"test\"],loc=\"upper left\")\n",
        "plt.legend(loc = 4,fontsize=15)\n",
        "#plt.savefig('/content/drive/My Drive/Colab Notebooks/ML/Trainingacc7-5.png', dpi=600)\n",
        "plt.show()\n"
      ],
      "execution_count": 14,
      "outputs": [
        {
          "output_type": "stream",
          "text": [
            "0.02558008266669545 0.8134303390979767\n"
          ],
          "name": "stdout"
        },
        {
          "output_type": "display_data",
          "data": {
            "image/png": "[encoded data removed]",
            "text/plain": [
              "<Figure size 504x360 with 1 Axes>"
            ]
          },
          "metadata": {
            "tags": [],
            "needs_background": "light"
          }
        }
      ]
    },
    {
      "cell_type": "code",
      "metadata": {
        "colab": {
          "base_uri": "https://localhost:8080/",
          "height": 387
        },
        "id": "LDuoEUPzH6yg",
        "outputId": "4d754b12-99d9-4f8e-d56b-05b7de3d37df"
      },
      "source": [
        "train_loss_min=[]\n",
        "train_loss_max=[]\n",
        "train_loss_mean=[]\n",
        "for i in range(0, 500):\n",
        "    maxv=max(train_loss[0][i],train_loss[1][i],train_loss[2][i],train_loss[3][i])\n",
        "    minv=min(train_loss[0][i],train_loss[1][i],train_loss[2][i],train_loss[3][i])\n",
        "    meanv=(train_loss[0][i]+train_loss[1][i]+train_loss[2][i]+train_loss[3][i]) /4\n",
        "    train_loss_min.append(minv)\n",
        "    train_loss_max.append(maxv)\n",
        "    train_loss_mean.append(meanv)\n",
        "test_loss_min=[]\n",
        "test_loss_max=[]\n",
        "test_loss_mean=[]\n",
        "for i in range(0, 500):\n",
        "    maxv=max(test_loss[0][i],test_loss[1][i],test_loss[2][i],test_loss[3][i])\n",
        "    minv=min(test_loss[0][i],test_loss[1][i],test_loss[2][i],test_loss[3][i])\n",
        "    meanv=(test_loss[0][i]+test_loss[1][i]+test_loss[2][i]+test_loss[3][i]) /4\n",
        "    test_loss_min.append(minv)\n",
        "    test_loss_max.append(maxv)\n",
        "    test_loss_mean.append(meanv)\n",
        "\n",
        "i=499\n",
        "w = np.array([test_loss[0][i],test_loss[1][i],test_loss[2][i],test_loss[3][i]])\n",
        "s=np.std(w)\n",
        "meanv=np.mean(w)\n",
        "print(s, meanv)\n",
        "\n",
        "f=plt.figure(figsize=[7,5])\n",
        "plt.plot(epochs, smooth_curve(train_loss_mean), 'k', color='mediumslateblue',label='Training loss')\n",
        "plt.fill_between(epochs, smooth_curve(train_loss_min), smooth_curve(train_loss_max),alpha=0.5, facecolor='mediumslateblue')\n",
        "plt.plot(epochs, smooth_curve(test_loss_mean), 'k', color='plum',label='Testing loss')\n",
        "plt.fill_between(epochs, smooth_curve(test_loss_min), smooth_curve(test_loss_max),alpha=0.5, facecolor='plum')\n",
        "plt.title('Training and testing loss',fontsize=20)\n",
        "plt.xlabel('Epochs',fontsize=20)\n",
        "plt.ylabel('Loss',fontsize=20)\n",
        "plt.xticks(fontsize=15)\n",
        "plt.yticks(fontsize=15)\n",
        "#plt.legend([\"train\",\"test\"],loc=\"upper left\")\n",
        "plt.legend(fontsize=15,loc=\"upper right\")\n",
        "#plt.savefig('/content/drive/My Drive/Colab Notebooks/ML/Trainingloss.png', dpi=600)\n",
        "plt.show()\n",
        "\n"
      ],
      "execution_count": 15,
      "outputs": [
        {
          "output_type": "stream",
          "text": [
            "0.20230964275408375 0.4068990871310234\n"
          ],
          "name": "stdout"
        },
        {
          "output_type": "display_data",
          "data": {
            "image/png": "[encoded data removed]",
            "text/plain": [
              "<Figure size 504x360 with 1 Axes>"
            ]
          },
          "metadata": {
            "tags": [],
            "needs_background": "light"
          }
        }
      ]
    },
    {
      "cell_type": "code",
      "metadata": {
        "id": "7wmlXluKKhG9"
      },
      "source": [
        ""
      ],
      "execution_count": null,
      "outputs": []
    }
  ]
}