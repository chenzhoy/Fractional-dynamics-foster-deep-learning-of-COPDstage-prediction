{
  "nbformat": 4,
  "nbformat_minor": 0,
  "metadata": {
    "kernelspec": {
      "display_name": "Python 3",
      "language": "python",
      "name": "python3"
    },
    "language_info": {
      "codemirror_mode": {
        "name": "ipython",
        "version": 3
      },
      "file_extension": ".py",
      "mimetype": "text/x-python",
      "name": "python",
      "nbconvert_exporter": "python",
      "pygments_lexer": "ipython3",
      "version": "3.7.4"
    },
    "colab": {
      "name": "holdout_svm_model_train.ipynb",
      "provenance": [],
      "collapsed_sections": []
    }
  },
  "cells": [
    {
      "cell_type": "code",
      "metadata": {
        "id": "Y-pSiAyr1O4_"
      },
      "source": [
        "import numpy as np\n",
        "from keras.utils.np_utils import to_categorical\n",
        "import pandas as pd\n",
        "from sklearn.model_selection import train_test_split\n",
        "from sklearn.model_selection import KFold\n",
        "from sklearn.preprocessing import MinMaxScaler\n",
        "import matplotlib.pyplot as plt\n",
        "from sklearn import svm\n",
        "from sklearn import metrics"
      ],
      "execution_count": 1,
      "outputs": []
    },
    {
      "cell_type": "code",
      "metadata": {
        "colab": {
          "base_uri": "https://localhost:8080/"
        },
        "id": "Wd7z2S5d1U6i",
        "outputId": "3211c0b5-6076-4369-dc39-81891449589c"
      },
      "source": [
        "from google.colab import drive\n",
        "drive.mount(\"/content/drive\")"
      ],
      "execution_count": 2,
      "outputs": [
        {
          "output_type": "stream",
          "text": [
            "Mounted at /content/drive\n"
          ],
          "name": "stdout"
        }
      ]
    },
    {
      "cell_type": "code",
      "metadata": {
        "id": "n-idJxsl5u9g"
      },
      "source": [
        "X_test=np.load(\"/content/drive/My Drive/Colab Notebooks/ML/New_version_copd/vb_data.npy\")\n",
        "m1=np.load(\"/content/drive/My Drive/Colab Notebooks/ML/New_version_copd/md1_data.npy\")\n",
        "m2=np.load(\"/content/drive/My Drive/Colab Notebooks/ML/New_version_copd/md2_data.npy\")\n",
        "m3=np.load(\"/content/drive/My Drive/Colab Notebooks/ML/New_version_copd/cp_data.npy\")\n",
        "X_train=np.vstack((m1,m2,m3))"
      ],
      "execution_count": 3,
      "outputs": []
    },
    {
      "cell_type": "code",
      "metadata": {
        "id": "zJLd5BE05vAP"
      },
      "source": [
        "y_train=X_train[:,-1]\n",
        "X_train=X_train[:,:-1]\n",
        "y_test=X_test[:,-1]\n",
        "X_test=X_test[:,:-1]"
      ],
      "execution_count": 4,
      "outputs": []
    },
    {
      "cell_type": "code",
      "metadata": {
        "id": "B5rqj8or8ocb"
      },
      "source": [
        "result_list_hold=[]\n",
        "X_test_list=[]\n",
        "y_test_list=[]\n",
        "test_loss=[]\n",
        "train_loss=[]\n",
        "test_acc=[]\n",
        "train_acc=[]\n",
        "test_auc=[]\n",
        "train_auc=[]  \n",
        "one_hot_train_labels = to_categorical(y_train)\n",
        "one_hot_test_labels = to_categorical(y_test)\n",
        "X_test_list.append(X_test)\n",
        "y_test_list.append(one_hot_test_labels)\n",
        "\n",
        "\n",
        "logreg = svm.SVC()\n",
        "\n",
        "# fit the model with data\n",
        "logreg.fit(X_train,y_train)\n",
        "\n",
        "#\n",
        "y_pred=logreg.predict(X_test)\n",
        "cnf_matrix = metrics.confusion_matrix(y_test, y_pred)\n",
        "result_list_hold.append(cnf_matrix)\n",
        "\n",
        "\n"
      ],
      "execution_count": 5,
      "outputs": []
    },
    {
      "cell_type": "code",
      "metadata": {
        "id": "y6Eyb3Fg8oet"
      },
      "source": [
        "m1=np.load(\"/content/drive/My Drive/Colab Notebooks/ML/New_version_copd/vb_data.npy\")\n",
        "X_test=np.load(\"/content/drive/My Drive/Colab Notebooks/ML/New_version_copd/md1_data.npy\")\n",
        "m2=np.load(\"/content/drive/My Drive/Colab Notebooks/ML/New_version_copd/md2_data.npy\")\n",
        "m3=np.load(\"/content/drive/My Drive/Colab Notebooks/ML/New_version_copd/cp_data.npy\")\n",
        "X_train=np.vstack((m1,m2,m3))\n",
        "y_train=X_train[:,-1]\n",
        "X_train=X_train[:,:-1]\n",
        "y_test=X_test[:,-1]\n",
        "X_test=X_test[:,:-1]\n",
        "X_test_list=[]\n",
        "y_test_list=[]\n",
        "test_loss=[]\n",
        "train_loss=[]\n",
        "test_acc=[]\n",
        "train_acc=[]\n",
        "test_auc=[]\n",
        "train_auc=[]  \n",
        "one_hot_train_labels = to_categorical(y_train)\n",
        "one_hot_test_labels = to_categorical(y_test)\n",
        "X_test_list.append(X_test)\n",
        "y_test_list.append(one_hot_test_labels)\n",
        "\n",
        "\n",
        "\n",
        "logreg = svm.SVC()\n",
        "\n",
        "# fit the model with data\n",
        "logreg.fit(X_train,y_train)\n",
        "\n",
        "#\n",
        "y_pred=logreg.predict(X_test)\n",
        "cnf_matrix = metrics.confusion_matrix(y_test, y_pred)\n",
        "result_list_hold.append(cnf_matrix)\n"
      ],
      "execution_count": 6,
      "outputs": []
    },
    {
      "cell_type": "code",
      "metadata": {
        "id": "5c6OGF1n8ogr"
      },
      "source": [
        "m1=np.load(\"/content/drive/My Drive/Colab Notebooks/ML/New_version_copd/vb_data.npy\")\n",
        "m2=np.load(\"/content/drive/My Drive/Colab Notebooks/ML/New_version_copd/md1_data.npy\")\n",
        "X_test=np.load(\"/content/drive/My Drive/Colab Notebooks/ML/New_version_copd/md2_data.npy\")\n",
        "m3=np.load(\"/content/drive/My Drive/Colab Notebooks/ML/New_version_copd/cp_data.npy\")\n",
        "X_train=np.vstack((m1,m2,m3))\n",
        "y_train=X_train[:,-1]\n",
        "X_train=X_train[:,:-1]\n",
        "y_test=X_test[:,-1]\n",
        "X_test=X_test[:,:-1]\n",
        "X_test_list=[]\n",
        "y_test_list=[]\n",
        "test_loss=[]\n",
        "train_loss=[]\n",
        "test_acc=[]\n",
        "train_acc=[]\n",
        "test_auc=[]\n",
        "train_auc=[]  \n",
        "one_hot_train_labels = to_categorical(y_train)\n",
        "one_hot_test_labels = to_categorical(y_test)\n",
        "X_test_list.append(X_test)\n",
        "y_test_list.append(one_hot_test_labels)\n",
        "\n",
        "\n",
        "\n",
        "logreg = svm.SVC()\n",
        "# fit the model with data\n",
        "logreg.fit(X_train,y_train)\n",
        "\n",
        "#\n",
        "y_pred=logreg.predict(X_test)\n",
        "cnf_matrix = metrics.confusion_matrix(y_test, y_pred)\n",
        "result_list_hold.append(cnf_matrix)\n"
      ],
      "execution_count": 7,
      "outputs": []
    },
    {
      "cell_type": "code",
      "metadata": {
        "id": "TkLlzvBz8ojh"
      },
      "source": [
        "m1=np.load(\"/content/drive/My Drive/Colab Notebooks/ML/New_version_copd/vb_data.npy\")\n",
        "m2=np.load(\"/content/drive/My Drive/Colab Notebooks/ML/New_version_copd/md1_data.npy\")\n",
        "m3=np.load(\"/content/drive/My Drive/Colab Notebooks/ML/New_version_copd/md2_data.npy\")\n",
        "X_test=np.load(\"/content/drive/My Drive/Colab Notebooks/ML/New_version_copd/cp_data.npy\")\n",
        "X_train=np.vstack((m1,m2,m3))\n",
        "y_train=X_train[:,-1]\n",
        "X_train=X_train[:,:-1]\n",
        "y_test=X_test[:,-1]\n",
        "X_test=X_test[:,:-1]\n",
        "X_test_list=[]\n",
        "y_test_list=[]\n",
        "test_loss=[]\n",
        "train_loss=[]\n",
        "test_acc=[]\n",
        "train_acc=[]\n",
        "test_auc=[]\n",
        "train_auc=[]  \n",
        "one_hot_train_labels = to_categorical(y_train)\n",
        "one_hot_test_labels = to_categorical(y_test)\n",
        "X_test_list.append(X_test)\n",
        "y_test_list.append(one_hot_test_labels)\n",
        "\n",
        "\n",
        "\n",
        "logreg = svm.SVC()\n",
        "\n",
        "# fit the model with data\n",
        "logreg.fit(X_train,y_train)\n",
        "\n",
        "#\n",
        "y_pred=logreg.predict(X_test)\n",
        "cnf_matrix = metrics.confusion_matrix(y_test, y_pred)\n",
        "result_list_hold.append(cnf_matrix)\n"
      ],
      "execution_count": 8,
      "outputs": []
    },
    {
      "cell_type": "code",
      "metadata": {
        "colab": {
          "base_uri": "https://localhost:8080/"
        },
        "id": "rxUYuSuC8oli",
        "outputId": "22e7da27-34a4-4077-b7a0-1e7df250314b"
      },
      "source": [
        "a=[]\n",
        "for m in range(0, 4):\n",
        "  total=sum(map(sum,result_list_hold[m]))\n",
        "  curr=0\n",
        "  for n in range(0,5):\n",
        "    curr=curr+result_list_hold[m][n][n]\n",
        "  result=curr/total\n",
        "  a.append(result)\n",
        "a=np.array(a)\n",
        "ma=np.mean(a)\n",
        "va=np.var(a)\n",
        "print(ma,va)"
      ],
      "execution_count": 9,
      "outputs": [
        {
          "output_type": "stream",
          "text": [
            "0.9262184115523466 3.9251374969046834e-05\n"
          ],
          "name": "stdout"
        }
      ]
    },
    {
      "cell_type": "code",
      "metadata": {
        "id": "yevcOo7dVQQW"
      },
      "source": [
        "def plot_confusion_matrix(cm, classes,\n",
        "                          normalize=False,\n",
        "                          title='Confusion matrix',\n",
        "                          cmap=plt.cm.RdPu):\n",
        "    \"\"\"\n",
        "    This function prints and plots the confusion matrix.\n",
        "    Normalization can be applied by setting `normalize=True`.\n",
        "    \"\"\"\n",
        "    import itertools\n",
        "    if normalize:\n",
        "        cm = cm.astype('float') / cm.sum(axis=1)[:, np.newaxis]\n",
        "        print(\"Normalized confusion matrix\")\n",
        "    else:\n",
        "        print('Confusion matrix')\n",
        "\n",
        "    print(cm)\n",
        "\n",
        "    plt.imshow(cm, interpolation='nearest', cmap=cmap)\n",
        "    plt.title(title,fontsize=15)\n",
        "    plt.clim(0, 460)\n",
        "    plt.colorbar()\n",
        "    tick_marks = np.arange(len(classes))\n",
        "    plt.xticks(tick_marks, classes,fontsize=12)\n",
        "    plt.yticks(tick_marks, classes,fontsize=12)\n",
        "\n",
        "    fmt = '.2f' if normalize else 'd'\n",
        "    thresh = cm.max() / 2.\n",
        "    for i, j in itertools.product(range(cm.shape[0]), range(cm.shape[1])):\n",
        "        plt.text(j, i, format(cm[i, j], fmt),\n",
        "                 horizontalalignment=\"center\",\n",
        "                 color=\"white\" if cm[i, j] > thresh else \"black\")\n",
        "\n",
        "    plt.ylabel('True label',fontsize=15)\n",
        "    plt.xlabel('Predicted label',fontsize=15)\n",
        "    plt.tight_layout()"
      ],
      "execution_count": 11,
      "outputs": []
    },
    {
      "cell_type": "code",
      "metadata": {
        "colab": {
          "base_uri": "https://localhost:8080/",
          "height": 399
        },
        "id": "jf5O4IsT8on1",
        "outputId": "36166467-a9de-4a2f-b518-cf04c8381bc9"
      },
      "source": [
        "plt.grid(False) \n",
        "\n",
        "#plot_confusion_matrix(cnf_matrix, classes=attack_types, normalize=False, title='Normalized confusion matrix')\n",
        "plot_confusion_matrix(result_list_hold[0], classes=['0','1','2','3','4'],\n",
        "                      title='Confusion matrix (CP)')"
      ],
      "execution_count": 12,
      "outputs": [
        {
          "output_type": "stream",
          "text": [
            "Confusion matrix\n",
            "[[140   0  11   5   1]\n",
            " [  0 129  48   1   0]\n",
            " [  0   0 421   8   2]\n",
            " [  2   0   8 238   2]\n",
            " [  0   0   0   0  92]]\n"
          ],
          "name": "stdout"
        },
        {
          "output_type": "display_data",
          "data": {
            "image/png": "[encoded data removed]",
            "text/plain": [
              "<Figure size 432x288 with 2 Axes>"
            ]
          },
          "metadata": {
            "tags": [],
            "needs_background": "light"
          }
        }
      ]
    },
    {
      "cell_type": "code",
      "metadata": {
        "id": "fl1-E3sBVJGK"
      },
      "source": [
        ""
      ],
      "execution_count": null,
      "outputs": []
    }
  ]
}