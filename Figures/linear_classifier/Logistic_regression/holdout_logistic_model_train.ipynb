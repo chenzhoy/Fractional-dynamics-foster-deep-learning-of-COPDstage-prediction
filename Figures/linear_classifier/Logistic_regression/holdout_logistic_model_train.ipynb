{
  "nbformat": 4,
  "nbformat_minor": 0,
  "metadata": {
    "kernelspec": {
      "display_name": "Python 3",
      "language": "python",
      "name": "python3"
    },
    "language_info": {
      "codemirror_mode": {
        "name": "ipython",
        "version": 3
      },
      "file_extension": ".py",
      "mimetype": "text/x-python",
      "name": "python",
      "nbconvert_exporter": "python",
      "pygments_lexer": "ipython3",
      "version": "3.7.4"
    },
    "colab": {
      "name": "holdout_logistic_model_train.ipynb",
      "provenance": [],
      "collapsed_sections": []
    }
  },
  "cells": [
    {
      "cell_type": "code",
      "metadata": {
        "id": "Y-pSiAyr1O4_"
      },
      "source": [
        "import numpy as np\n",
        "from keras.utils.np_utils import to_categorical\n",
        "import pandas as pd\n",
        "from sklearn.model_selection import train_test_split\n",
        "from sklearn.model_selection import KFold\n",
        "from sklearn.preprocessing import MinMaxScaler\n",
        "import matplotlib.pyplot as plt"
      ],
      "execution_count": null,
      "outputs": []
    },
    {
      "cell_type": "code",
      "metadata": {
        "colab": {
          "base_uri": "https://localhost:8080/"
        },
        "id": "Wd7z2S5d1U6i",
        "outputId": "5b73f0c3-a6f5-4c68-bd94-95c0897bd66e"
      },
      "source": [
        "from google.colab import drive\n",
        "drive.mount(\"/content/drive\")"
      ],
      "execution_count": null,
      "outputs": [
        {
          "output_type": "stream",
          "text": [
            "Mounted at /content/drive\n"
          ],
          "name": "stdout"
        }
      ]
    },
    {
      "cell_type": "code",
      "metadata": {
        "id": "n-idJxsl5u9g"
      },
      "source": [
        "X_test=np.load(\"/content/drive/My Drive/Colab Notebooks/ML/New_version_copd/vb_data.npy\")\n",
        "m1=np.load(\"/content/drive/My Drive/Colab Notebooks/ML/New_version_copd/md1_data.npy\")\n",
        "m2=np.load(\"/content/drive/My Drive/Colab Notebooks/ML/New_version_copd/md2_data.npy\")\n",
        "m3=np.load(\"/content/drive/My Drive/Colab Notebooks/ML/New_version_copd/cp_data.npy\")\n",
        "X_train=np.vstack((m1,m2,m3))"
      ],
      "execution_count": null,
      "outputs": []
    },
    {
      "cell_type": "code",
      "metadata": {
        "id": "zJLd5BE05vAP"
      },
      "source": [
        "y_train=X_train[:,-1]\n",
        "X_train=X_train[:,:-1]\n",
        "y_test=X_test[:,-1]\n",
        "X_test=X_test[:,:-1]"
      ],
      "execution_count": null,
      "outputs": []
    },
    {
      "cell_type": "code",
      "metadata": {
        "colab": {
          "base_uri": "https://localhost:8080/"
        },
        "id": "B5rqj8or8ocb",
        "outputId": "d6f97c60-6fe8-4b3d-b701-85f8e7b31119"
      },
      "source": [
        "result_list_hold=[]\n",
        "X_test_list=[]\n",
        "y_test_list=[]\n",
        "test_loss=[]\n",
        "train_loss=[]\n",
        "test_acc=[]\n",
        "train_acc=[]\n",
        "test_auc=[]\n",
        "train_auc=[]  \n",
        "one_hot_train_labels = to_categorical(y_train)\n",
        "one_hot_test_labels = to_categorical(y_test)\n",
        "X_test_list.append(X_test)\n",
        "y_test_list.append(one_hot_test_labels)\n",
        "\n",
        "\n",
        "logreg = LogisticRegression()\n",
        "\n",
        "# fit the model with data\n",
        "logreg.fit(X_train,y_train)\n",
        "\n",
        "#\n",
        "y_pred=logreg.predict(X_test)\n",
        "cnf_matrix = metrics.confusion_matrix(y_test, y_pred)\n",
        "result_list_hold.append(cnf_matrix)\n",
        "\n",
        "\n"
      ],
      "execution_count": null,
      "outputs": [
        {
          "output_type": "stream",
          "text": [
            "/usr/local/lib/python3.7/dist-packages/sklearn/linear_model/_logistic.py:940: ConvergenceWarning: lbfgs failed to converge (status=1):\n",
            "STOP: TOTAL NO. of ITERATIONS REACHED LIMIT.\n",
            "\n",
            "Increase the number of iterations (max_iter) or scale the data as shown in:\n",
            "    https://scikit-learn.org/stable/modules/preprocessing.html\n",
            "Please also refer to the documentation for alternative solver options:\n",
            "    https://scikit-learn.org/stable/modules/linear_model.html#logistic-regression\n",
            "  extra_warning_msg=_LOGISTIC_SOLVER_CONVERGENCE_MSG)\n"
          ],
          "name": "stderr"
        }
      ]
    },
    {
      "cell_type": "code",
      "metadata": {
        "colab": {
          "base_uri": "https://localhost:8080/"
        },
        "id": "y6Eyb3Fg8oet",
        "outputId": "ec8becfe-33b7-48b1-afb5-3f59690d3441"
      },
      "source": [
        "m1=np.load(\"/content/drive/My Drive/Colab Notebooks/ML/New_version_copd/vb_data.npy\")\n",
        "X_test=np.load(\"/content/drive/My Drive/Colab Notebooks/ML/New_version_copd/md1_data.npy\")\n",
        "m2=np.load(\"/content/drive/My Drive/Colab Notebooks/ML/New_version_copd/md2_data.npy\")\n",
        "m3=np.load(\"/content/drive/My Drive/Colab Notebooks/ML/New_version_copd/cp_data.npy\")\n",
        "X_train=np.vstack((m1,m2,m3))\n",
        "y_train=X_train[:,-1]\n",
        "X_train=X_train[:,:-1]\n",
        "y_test=X_test[:,-1]\n",
        "X_test=X_test[:,:-1]\n",
        "X_test_list=[]\n",
        "y_test_list=[]\n",
        "test_loss=[]\n",
        "train_loss=[]\n",
        "test_acc=[]\n",
        "train_acc=[]\n",
        "test_auc=[]\n",
        "train_auc=[]  \n",
        "one_hot_train_labels = to_categorical(y_train)\n",
        "one_hot_test_labels = to_categorical(y_test)\n",
        "X_test_list.append(X_test)\n",
        "y_test_list.append(one_hot_test_labels)\n",
        "\n",
        "\n",
        "logreg = LogisticRegression()\n",
        "\n",
        "# fit the model with data\n",
        "logreg.fit(X_train,y_train)\n",
        "\n",
        "#\n",
        "y_pred=logreg.predict(X_test)\n",
        "cnf_matrix = metrics.confusion_matrix(y_test, y_pred)\n",
        "result_list_hold.append(cnf_matrix)\n"
      ],
      "execution_count": null,
      "outputs": [
        {
          "output_type": "stream",
          "text": [
            "/usr/local/lib/python3.7/dist-packages/sklearn/linear_model/_logistic.py:940: ConvergenceWarning: lbfgs failed to converge (status=1):\n",
            "STOP: TOTAL NO. of ITERATIONS REACHED LIMIT.\n",
            "\n",
            "Increase the number of iterations (max_iter) or scale the data as shown in:\n",
            "    https://scikit-learn.org/stable/modules/preprocessing.html\n",
            "Please also refer to the documentation for alternative solver options:\n",
            "    https://scikit-learn.org/stable/modules/linear_model.html#logistic-regression\n",
            "  extra_warning_msg=_LOGISTIC_SOLVER_CONVERGENCE_MSG)\n"
          ],
          "name": "stderr"
        }
      ]
    },
    {
      "cell_type": "code",
      "metadata": {
        "colab": {
          "base_uri": "https://localhost:8080/"
        },
        "id": "5c6OGF1n8ogr",
        "outputId": "b3d59076-e9dc-4839-ee4c-08fb37ebf0f6"
      },
      "source": [
        "m1=np.load(\"/content/drive/My Drive/Colab Notebooks/ML/New_version_copd/vb_data.npy\")\n",
        "m2=np.load(\"/content/drive/My Drive/Colab Notebooks/ML/New_version_copd/md1_data.npy\")\n",
        "X_test=np.load(\"/content/drive/My Drive/Colab Notebooks/ML/New_version_copd/md2_data.npy\")\n",
        "m3=np.load(\"/content/drive/My Drive/Colab Notebooks/ML/New_version_copd/cp_data.npy\")\n",
        "X_train=np.vstack((m1,m2,m3))\n",
        "y_train=X_train[:,-1]\n",
        "X_train=X_train[:,:-1]\n",
        "y_test=X_test[:,-1]\n",
        "X_test=X_test[:,:-1]\n",
        "X_test_list=[]\n",
        "y_test_list=[]\n",
        "test_loss=[]\n",
        "train_loss=[]\n",
        "test_acc=[]\n",
        "train_acc=[]\n",
        "test_auc=[]\n",
        "train_auc=[]  \n",
        "one_hot_train_labels = to_categorical(y_train)\n",
        "one_hot_test_labels = to_categorical(y_test)\n",
        "X_test_list.append(X_test)\n",
        "y_test_list.append(one_hot_test_labels)\n",
        "\n",
        "\n",
        "logreg = LogisticRegression()\n",
        "\n",
        "# fit the model with data\n",
        "logreg.fit(X_train,y_train)\n",
        "\n",
        "#\n",
        "y_pred=logreg.predict(X_test)\n",
        "cnf_matrix = metrics.confusion_matrix(y_test, y_pred)\n",
        "result_list_hold.append(cnf_matrix)\n"
      ],
      "execution_count": null,
      "outputs": [
        {
          "output_type": "stream",
          "text": [
            "/usr/local/lib/python3.7/dist-packages/sklearn/linear_model/_logistic.py:940: ConvergenceWarning: lbfgs failed to converge (status=1):\n",
            "STOP: TOTAL NO. of ITERATIONS REACHED LIMIT.\n",
            "\n",
            "Increase the number of iterations (max_iter) or scale the data as shown in:\n",
            "    https://scikit-learn.org/stable/modules/preprocessing.html\n",
            "Please also refer to the documentation for alternative solver options:\n",
            "    https://scikit-learn.org/stable/modules/linear_model.html#logistic-regression\n",
            "  extra_warning_msg=_LOGISTIC_SOLVER_CONVERGENCE_MSG)\n"
          ],
          "name": "stderr"
        }
      ]
    },
    {
      "cell_type": "code",
      "metadata": {
        "colab": {
          "base_uri": "https://localhost:8080/"
        },
        "id": "TkLlzvBz8ojh",
        "outputId": "4bd42bb3-af55-4d4b-a441-b8cae9f52f56"
      },
      "source": [
        "m1=np.load(\"/content/drive/My Drive/Colab Notebooks/ML/New_version_copd/vb_data.npy\")\n",
        "m2=np.load(\"/content/drive/My Drive/Colab Notebooks/ML/New_version_copd/md1_data.npy\")\n",
        "m3=np.load(\"/content/drive/My Drive/Colab Notebooks/ML/New_version_copd/md2_data.npy\")\n",
        "X_test=np.load(\"/content/drive/My Drive/Colab Notebooks/ML/New_version_copd/cp_data.npy\")\n",
        "X_train=np.vstack((m1,m2,m3))\n",
        "y_train=X_train[:,-1]\n",
        "X_train=X_train[:,:-1]\n",
        "y_test=X_test[:,-1]\n",
        "X_test=X_test[:,:-1]\n",
        "X_test_list=[]\n",
        "y_test_list=[]\n",
        "test_loss=[]\n",
        "train_loss=[]\n",
        "test_acc=[]\n",
        "train_acc=[]\n",
        "test_auc=[]\n",
        "train_auc=[]  \n",
        "one_hot_train_labels = to_categorical(y_train)\n",
        "one_hot_test_labels = to_categorical(y_test)\n",
        "X_test_list.append(X_test)\n",
        "y_test_list.append(one_hot_test_labels)\n",
        "\n",
        "\n",
        "logreg = LogisticRegression()\n",
        "\n",
        "# fit the model with data\n",
        "logreg.fit(X_train,y_train)\n",
        "\n",
        "#\n",
        "y_pred=logreg.predict(X_test)\n",
        "cnf_matrix = metrics.confusion_matrix(y_test, y_pred)\n",
        "result_list_hold.append(cnf_matrix)\n"
      ],
      "execution_count": null,
      "outputs": [
        {
          "output_type": "stream",
          "text": [
            "/usr/local/lib/python3.7/dist-packages/sklearn/linear_model/_logistic.py:940: ConvergenceWarning: lbfgs failed to converge (status=1):\n",
            "STOP: TOTAL NO. of ITERATIONS REACHED LIMIT.\n",
            "\n",
            "Increase the number of iterations (max_iter) or scale the data as shown in:\n",
            "    https://scikit-learn.org/stable/modules/preprocessing.html\n",
            "Please also refer to the documentation for alternative solver options:\n",
            "    https://scikit-learn.org/stable/modules/linear_model.html#logistic-regression\n",
            "  extra_warning_msg=_LOGISTIC_SOLVER_CONVERGENCE_MSG)\n"
          ],
          "name": "stderr"
        }
      ]
    },
    {
      "cell_type": "code",
      "metadata": {
        "colab": {
          "base_uri": "https://localhost:8080/"
        },
        "id": "rxUYuSuC8oli",
        "outputId": "e37348fa-80fc-439e-bf6f-65bffb704524"
      },
      "source": [
        "a=[]\n",
        "for m in range(0, 4):\n",
        "  total=sum(map(sum,result_list_hold[m]))\n",
        "  curr=0\n",
        "  for n in range(0,5):\n",
        "    curr=curr+result_list_hold[m][n][n]\n",
        "  result=curr/total\n",
        "  a.append(result)\n",
        "a=np.array(a)\n",
        "ma=np.mean(a)\n",
        "va=np.var(a)\n",
        "print(ma,va)"
      ],
      "execution_count": null,
      "outputs": [
        {
          "output_type": "stream",
          "text": [
            "0.8668772563176894 8.16591510380689e-05\n"
          ],
          "name": "stdout"
        }
      ]
    },
    {
      "cell_type": "code",
      "metadata": {
        "colab": {
          "base_uri": "https://localhost:8080/",
          "height": 406
        },
        "id": "jf5O4IsT8on1",
        "outputId": "8ab9ce4b-39a2-4891-ae7c-759314ea7f73"
      },
      "source": [
        "plt.grid(False) \n",
        "\n",
        "#plot_confusion_matrix(cnf_matrix, classes=attack_types, normalize=False, title='Normalized confusion matrix')\n",
        "plot_confusion_matrix(result_list_hold[0], classes=['0','1','2','3','4'],\n",
        "                      title='Confusion matrix (CP)')"
      ],
      "execution_count": null,
      "outputs": [
        {
          "output_type": "stream",
          "text": [
            "Confusion matrix\n",
            "[[120   0  13  20   4]\n",
            " [  0 131  42   5   0]\n",
            " [  2   5 401  21   2]\n",
            " [  9   0  21 215   5]\n",
            " [  5   0   0   1  86]]\n"
          ],
          "name": "stdout"
        },
        {
          "output_type": "display_data",
          "data": {
            "image/png": "[encoded data removed]",
            "text/plain": [
              "<Figure size 432x288 with 2 Axes>"
            ]
          },
          "metadata": {
            "tags": [],
            "needs_background": "light"
          }
        }
      ]
    },
    {
      "cell_type": "code",
      "metadata": {
        "colab": {
          "base_uri": "https://localhost:8080/",
          "height": 406
        },
        "id": "AZ6uGJpC8oqA",
        "outputId": "37d11a9d-2e84-4fcd-dc7d-be75a206ce64"
      },
      "source": [
        "plt.grid(False) \n",
        "\n",
        "#plot_confusion_matrix(cnf_matrix, classes=attack_types, normalize=False, title='Normalized confusion matrix')\n",
        "plot_confusion_matrix(result_list[0], classes=['0','1','2','3','4'],\n",
        "                      title='Confusion matrix (5)')"
      ],
      "execution_count": null,
      "outputs": [
        {
          "output_type": "stream",
          "text": [
            "Confusion matrix\n",
            "[[135   0   9   4   2]\n",
            " [  1 110   6   3   0]\n",
            " [  0   2 336   0   0]\n",
            " [  3   0   6 199   0]\n",
            " [  0   0   1   2  68]]\n"
          ],
          "name": "stdout"
        },
        {
          "output_type": "display_data",
          "data": {
            "image/png": "[encoded data removed]",
            "text/plain": [
              "<Figure size 432x288 with 2 Axes>"
            ]
          },
          "metadata": {
            "tags": [],
            "needs_background": "light"
          }
        }
      ]
    }
  ]
}