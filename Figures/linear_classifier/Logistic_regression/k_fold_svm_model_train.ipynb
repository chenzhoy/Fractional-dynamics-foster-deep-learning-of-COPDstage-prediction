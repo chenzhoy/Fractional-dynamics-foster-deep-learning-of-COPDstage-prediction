{
  "nbformat": 4,
  "nbformat_minor": 0,
  "metadata": {
    "kernelspec": {
      "display_name": "Python 3",
      "language": "python",
      "name": "python3"
    },
    "language_info": {
      "codemirror_mode": {
        "name": "ipython",
        "version": 3
      },
      "file_extension": ".py",
      "mimetype": "text/x-python",
      "name": "python",
      "nbconvert_exporter": "python",
      "pygments_lexer": "ipython3",
      "version": "3.7.4"
    },
    "colab": {
      "name": "k_fold_svm_model_train.ipynb",
      "provenance": [],
      "collapsed_sections": []
    }
  },
  "cells": [
    {
      "cell_type": "code",
      "metadata": {
        "id": "Y-pSiAyr1O4_"
      },
      "source": [
        "import numpy as np\n",
        "from keras.utils.np_utils import to_categorical\n",
        "import pandas as pd\n",
        "from sklearn.model_selection import train_test_split\n",
        "from sklearn.model_selection import KFold\n",
        "from sklearn.preprocessing import MinMaxScaler\n",
        "import matplotlib.pyplot as plt\n",
        "from sklearn import svm\n",
        "from sklearn import metrics"
      ],
      "execution_count": null,
      "outputs": []
    },
    {
      "cell_type": "code",
      "metadata": {
        "colab": {
          "base_uri": "https://localhost:8080/"
        },
        "id": "Wd7z2S5d1U6i",
        "outputId": "26d6d4a2-c464-431f-c960-c485a9417621"
      },
      "source": [
        "from google.colab import drive\n",
        "drive.mount(\"/content/drive\")"
      ],
      "execution_count": null,
      "outputs": [
        {
          "output_type": "stream",
          "text": [
            "Mounted at /content/drive\n"
          ],
          "name": "stdout"
        }
      ]
    },
    {
      "cell_type": "code",
      "metadata": {
        "id": "3vnMDxp91UT1"
      },
      "source": [
        "X = np.load('/content/drive/My Drive/Colab Notebooks/ML/outputs/X_data_k_fold.npy')\n",
        "np.random.shuffle(X)\n",
        "y = X[:,-1]\n",
        "X=X[:,:-1]"
      ],
      "execution_count": null,
      "outputs": []
    },
    {
      "cell_type": "code",
      "metadata": {
        "id": "apH9Wsop79Mc"
      },
      "source": [
        "kfold = KFold(5, True, 1)"
      ],
      "execution_count": null,
      "outputs": []
    },
    {
      "cell_type": "code",
      "metadata": {
        "id": "0PWJ8XHlDll-"
      },
      "source": [
        "scaler = MinMaxScaler(feature_range=(0, 1))\n",
        "X = scaler.fit_transform(X)"
      ],
      "execution_count": null,
      "outputs": []
    },
    {
      "cell_type": "code",
      "metadata": {
        "colab": {
          "base_uri": "https://localhost:8080/"
        },
        "id": "n7_85ALX8cw2",
        "outputId": "3a490624-30d2-40cd-f2ff-441327bedad4"
      },
      "source": [
        "X_test_list=[]\n",
        "y_test_list=[]\n",
        "test_loss=[]\n",
        "train_loss=[]\n",
        "test_acc=[]\n",
        "train_acc=[]\n",
        "test_auc=[]\n",
        "train_auc=[]\n",
        "i=0\n",
        "result_list=[]\n",
        "for train_index, test_index in kfold.split(X):\n",
        "  #print('train: %s, test: %s' % (train_index, test_index))\n",
        "  X_train= X[train_index]\n",
        "  y_train=y[train_index]\n",
        "  X_test=X[test_index]\n",
        "  y_test=y[test_index]\n",
        "  X_train=pd.DataFrame(data=X_train)\n",
        "  y_train=pd.DataFrame(data=y_train)\n",
        "  y_test=pd.DataFrame(data=y_test)\n",
        "  X_test=pd.DataFrame(data=X_test)  \n",
        "  one_hot_train_labels = to_categorical(y_train)\n",
        "  one_hot_test_labels = to_categorical(y_test)\n",
        "  X_test_list.append(X_test)\n",
        "  y_test_list.append(one_hot_test_labels)\n",
        "\n",
        "\n",
        "  logreg = svm.SVC()\n",
        "\n",
        "  # fit the model with data\n",
        "  logreg.fit(X_train,y_train)\n",
        "\n",
        "  #\n",
        "  y_pred=logreg.predict(X_test)\n",
        "  cnf_matrix = metrics.confusion_matrix(y_test, y_pred)\n",
        "  result_list.append(cnf_matrix)"
      ],
      "execution_count": null,
      "outputs": [
        {
          "output_type": "stream",
          "text": [
            "/usr/local/lib/python3.7/dist-packages/sklearn/utils/validation.py:760: DataConversionWarning: A column-vector y was passed when a 1d array was expected. Please change the shape of y to (n_samples, ), for example using ravel().\n",
            "  y = column_or_1d(y, warn=True)\n",
            "/usr/local/lib/python3.7/dist-packages/sklearn/utils/validation.py:760: DataConversionWarning: A column-vector y was passed when a 1d array was expected. Please change the shape of y to (n_samples, ), for example using ravel().\n",
            "  y = column_or_1d(y, warn=True)\n",
            "/usr/local/lib/python3.7/dist-packages/sklearn/utils/validation.py:760: DataConversionWarning: A column-vector y was passed when a 1d array was expected. Please change the shape of y to (n_samples, ), for example using ravel().\n",
            "  y = column_or_1d(y, warn=True)\n",
            "/usr/local/lib/python3.7/dist-packages/sklearn/utils/validation.py:760: DataConversionWarning: A column-vector y was passed when a 1d array was expected. Please change the shape of y to (n_samples, ), for example using ravel().\n",
            "  y = column_or_1d(y, warn=True)\n",
            "/usr/local/lib/python3.7/dist-packages/sklearn/utils/validation.py:760: DataConversionWarning: A column-vector y was passed when a 1d array was expected. Please change the shape of y to (n_samples, ), for example using ravel().\n",
            "  y = column_or_1d(y, warn=True)\n"
          ],
          "name": "stderr"
        }
      ]
    },
    {
      "cell_type": "code",
      "metadata": {
        "colab": {
          "base_uri": "https://localhost:8080/"
        },
        "id": "9qzHzJPa1vA7",
        "outputId": "52010991-1557-4212-8c7b-b0b5809ab6af"
      },
      "source": [
        "result_list[0]"
      ],
      "execution_count": null,
      "outputs": [
        {
          "output_type": "execute_result",
          "data": {
            "text/plain": [
              "array([[116,   0,   4,   1,   0],\n",
              "       [  0, 110,  24,   0,   0],\n",
              "       [  0,   0, 361,   0,   1],\n",
              "       [  2,   1,   4, 199,   0],\n",
              "       [  2,   0,   1,   2,  59]])"
            ]
          },
          "metadata": {
            "tags": []
          },
          "execution_count": 21
        }
      ]
    },
    {
      "cell_type": "code",
      "metadata": {
        "colab": {
          "base_uri": "https://localhost:8080/"
        },
        "id": "NbQjLQt_4I38",
        "outputId": "c5439696-9def-4021-cb38-daf15ccf4c08"
      },
      "source": [
        "a=[]\n",
        "for m in range(0, 5):\n",
        "  total=sum(map(sum,result_list[m]))\n",
        "  curr=0\n",
        "  for n in range(0,5):\n",
        "    curr=curr+result_list[m][n][n]\n",
        "  result=curr/total\n",
        "  a.append(result)\n",
        "a=np.array(a)\n",
        "ma=np.mean(a)\n",
        "va=np.var(a)\n",
        "print(ma,va)"
      ],
      "execution_count": null,
      "outputs": [
        {
          "output_type": "stream",
          "text": [
            "0.947427221898453 2.3789586436104056e-05\n"
          ],
          "name": "stdout"
        }
      ]
    },
    {
      "cell_type": "code",
      "metadata": {
        "id": "by70SvhD5DGP"
      },
      "source": [
        "def plot_confusion_matrix(cm, classes,\n",
        "                          normalize=False,\n",
        "                          title='Confusion matrix',\n",
        "                          cmap=plt.cm.RdPu):\n",
        "    \"\"\"\n",
        "    This function prints and plots the confusion matrix.\n",
        "    Normalization can be applied by setting `normalize=True`.\n",
        "    \"\"\"\n",
        "    import itertools\n",
        "    if normalize:\n",
        "        cm = cm.astype('float') / cm.sum(axis=1)[:, np.newaxis]\n",
        "        print(\"Normalized confusion matrix\")\n",
        "    else:\n",
        "        print('Confusion matrix')\n",
        "\n",
        "    print(cm)\n",
        "\n",
        "    plt.imshow(cm, interpolation='nearest', cmap=cmap)\n",
        "    plt.title(title,fontsize=15)\n",
        "    plt.clim(0, 460)\n",
        "    plt.colorbar()\n",
        "    tick_marks = np.arange(len(classes))\n",
        "    plt.xticks(tick_marks, classes,fontsize=12)\n",
        "    plt.yticks(tick_marks, classes,fontsize=12)\n",
        "\n",
        "    fmt = '.2f' if normalize else 'd'\n",
        "    thresh = cm.max() / 2.\n",
        "    for i, j in itertools.product(range(cm.shape[0]), range(cm.shape[1])):\n",
        "        plt.text(j, i, format(cm[i, j], fmt),\n",
        "                 horizontalalignment=\"center\",\n",
        "                 color=\"white\" if cm[i, j] > thresh else \"black\")\n",
        "\n",
        "    plt.ylabel('True label',fontsize=15)\n",
        "    plt.xlabel('Predicted label',fontsize=15)\n",
        "    plt.tight_layout()"
      ],
      "execution_count": null,
      "outputs": []
    },
    {
      "cell_type": "code",
      "metadata": {
        "colab": {
          "base_uri": "https://localhost:8080/",
          "height": 399
        },
        "id": "weI8TOoJ5u4W",
        "outputId": "7f5c865f-73c0-457c-8cdf-529a879ce5f1"
      },
      "source": [
        "plt.grid(False) \n",
        "\n",
        "#plot_confusion_matrix(cnf_matrix, classes=attack_types, normalize=False, title='Normalized confusion matrix')\n",
        "plot_confusion_matrix(result_list[4], classes=['0','1','2','3','4'],\n",
        "                      title='Confusion matrix (5)')"
      ],
      "execution_count": null,
      "outputs": [
        {
          "output_type": "stream",
          "text": [
            "Confusion matrix\n",
            "[[115   0  10   0   0]\n",
            " [  3 102  26   3   0]\n",
            " [  0   0 365   0   1]\n",
            " [  0   0   4 180   0]\n",
            " [  2   0   2   1  72]]\n"
          ],
          "name": "stdout"
        },
        {
          "output_type": "display_data",
          "data": {
            "image/png": "[encoded data removed]",
            "text/plain": [
              "<Figure size 432x288 with 2 Axes>"
            ]
          },
          "metadata": {
            "tags": [],
            "needs_background": "light"
          }
        }
      ]
    },
    {
      "cell_type": "code",
      "metadata": {
        "id": "M0-nHX8R1O5B"
      },
      "source": [
        "\n"
      ],
      "execution_count": null,
      "outputs": []
    },
    {
      "cell_type": "code",
      "metadata": {
        "id": "ieZ_6wJF1O5C"
      },
      "source": [
        ""
      ],
      "execution_count": null,
      "outputs": []
    }
  ]
}