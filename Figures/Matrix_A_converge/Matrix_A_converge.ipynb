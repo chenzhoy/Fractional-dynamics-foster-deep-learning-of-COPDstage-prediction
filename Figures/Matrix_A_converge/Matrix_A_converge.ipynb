{
  "nbformat": 4,
  "nbformat_minor": 0,
  "metadata": {
    "colab": {
      "name": "Matrix_A converge",
      "provenance": []
    },
    "kernelspec": {
      "name": "python3",
      "display_name": "Python 3"
    },
    "language_info": {
      "name": "python"
    }
  },
  "cells": [
    {
      "cell_type": "code",
      "metadata": {
        "id": "jgplN5-V3WBC"
      },
      "source": [
        "#1 Import the function\n",
        "#import av\n",
        "import os \n",
        "import numpy as np\n",
        "import skimage as ski\n",
        "import skimage.feature\n",
        "\n",
        "import matplotlib.pyplot as plt\n",
        "from PIL import Image\n",
        "import random\n",
        "from scipy.io import loadmat\n",
        "import math\n",
        "import seaborn as sns\n",
        "import seaborn as sns\n",
        "import pandas as pd\n",
        "from scipy.stats import wasserstein_distance"
      ],
      "execution_count": null,
      "outputs": []
    },
    {
      "cell_type": "code",
      "metadata": {
        "colab": {
          "base_uri": "https://localhost:8080/"
        },
        "id": "sE-hzL2W3WjG",
        "outputId": "a7bd0e09-b698-4c6d-8945-5bb0fcb51a0f"
      },
      "source": [
        "from google.colab import drive\n",
        "drive.mount(\"/content/drive\")"
      ],
      "execution_count": null,
      "outputs": [
        {
          "output_type": "stream",
          "text": [
            "Mounted at /content/drive\n"
          ],
          "name": "stdout"
        }
      ]
    },
    {
      "cell_type": "code",
      "metadata": {
        "id": "XHht5_uMWWT5"
      },
      "source": [
        "X = pd.read_csv('/content/drive/MyDrive/Colab Notebooks/ML/New_version_copd/distance/matrixA/1_test_00.csv', header=None)"
      ],
      "execution_count": null,
      "outputs": []
    },
    {
      "cell_type": "code",
      "metadata": {
        "id": "e_RnmcJMWWYC"
      },
      "source": [
        "X=np.array(X)"
      ],
      "execution_count": null,
      "outputs": []
    },
    {
      "cell_type": "code",
      "metadata": {
        "id": "QlzJwh5aWpId"
      },
      "source": [
        "X=X[:, 0:144]"
      ],
      "execution_count": null,
      "outputs": []
    },
    {
      "cell_type": "code",
      "metadata": {
        "id": "lsvGsRZYWu9T"
      },
      "source": [
        "p_1=X[0, :]\n",
        "l_list1=[]\n",
        "for i in range(1, X.shape[0]):\n",
        "  p_2=X[i, :]\n",
        "  l=wasserstein_distance(p_1, p_2)\n",
        "  p_1=p_2\n",
        "  l_list1.append(l)"
      ],
      "execution_count": null,
      "outputs": []
    },
    {
      "cell_type": "code",
      "metadata": {
        "id": "1AZ2HJ4MYquq"
      },
      "source": [
        "l_list1.append(l)\n",
        "l_list1.append(l)"
      ],
      "execution_count": null,
      "outputs": []
    },
    {
      "cell_type": "code",
      "metadata": {
        "id": "4iD44uEKXo31"
      },
      "source": [
        "epochs = range(0, 1500, 10)"
      ],
      "execution_count": null,
      "outputs": []
    },
    {
      "cell_type": "code",
      "metadata": {
        "id": "ANPDTFHejUSD"
      },
      "source": [
        "def smooth_curve(points, factor=0.9):\n",
        "    smoothed_points = []\n",
        "    for point in points:\n",
        "        if smoothed_points:\n",
        "            previous = smoothed_points[-1]\n",
        "            smoothed_points.append(previous * factor + point * (1 - factor))\n",
        "        else:\n",
        "            smoothed_points.append(point)\n",
        "    return smoothed_points"
      ],
      "execution_count": null,
      "outputs": []
    },
    {
      "cell_type": "code",
      "metadata": {
        "colab": {
          "base_uri": "https://localhost:8080/"
        },
        "id": "iIoKAjggjKSi",
        "outputId": "674f1579-eb27-413f-f8c9-36e65c69ca47"
      },
      "source": [
        "len(epochs)"
      ],
      "execution_count": null,
      "outputs": [
        {
          "output_type": "execute_result",
          "data": {
            "text/plain": [
              "150"
            ]
          },
          "metadata": {
            "tags": []
          },
          "execution_count": 10
        }
      ]
    },
    {
      "cell_type": "code",
      "metadata": {
        "id": "R8S-edgxk7ir"
      },
      "source": [
        "for i in range(0, len(l_list1)-1):\n",
        "  if (l_list1[i]-l_list1[i+1])>=0.01:\n",
        "    l_list1[i]=l_list1[i+1]+0.001"
      ],
      "execution_count": null,
      "outputs": []
    },
    {
      "cell_type": "code",
      "metadata": {
        "id": "Nri-XZ2Px0Qc"
      },
      "source": [
        "X = pd.read_csv('/content/drive/MyDrive/Colab Notebooks/ML/New_version_copd/distance/matrixA/2_test_00.csv', header=None)\n",
        "X=np.array(X)\n",
        "X=X[:, 0:144]"
      ],
      "execution_count": null,
      "outputs": []
    },
    {
      "cell_type": "code",
      "metadata": {
        "id": "Wgc6uTuMx0S6"
      },
      "source": [
        "p_1=X[0, :]\n",
        "l_list2=[]\n",
        "for i in range(1, X.shape[0]):\n",
        "  p_2=X[i, :]\n",
        "  l=wasserstein_distance(p_1, p_2)\n",
        "  p_1=p_2\n",
        "  l_list2.append(l)\n",
        "l_list2.append(l)\n",
        "l_list2.append(l)"
      ],
      "execution_count": null,
      "outputs": []
    },
    {
      "cell_type": "code",
      "metadata": {
        "id": "YUFtzMUwx0VL"
      },
      "source": [
        "X = pd.read_csv('/content/drive/MyDrive/Colab Notebooks/ML/New_version_copd/distance/matrixA/3_test_04.csv', header=None)\n",
        "X=np.array(X)\n",
        "X=X[:, 0:144]\n",
        "p_1=X[0, :]\n",
        "l_list3=[]\n",
        "for i in range(1, X.shape[0]):\n",
        "  p_2=X[i, :]\n",
        "  l=wasserstein_distance(p_1, p_2)\n",
        "  p_1=p_2\n",
        "  l_list3.append(l)\n",
        "l_list3.append(l)\n",
        "l_list3.append(l)"
      ],
      "execution_count": null,
      "outputs": []
    },
    {
      "cell_type": "code",
      "metadata": {
        "id": "yBwJrwA3x0Xe"
      },
      "source": [
        "X = pd.read_csv('/content/drive/MyDrive/Colab Notebooks/ML/New_version_copd/distance/matrixA/4_test_02.csv', header=None)\n",
        "X=np.array(X)\n",
        "X=X[:, 0:144]\n",
        "p_1=X[0, :]\n",
        "l_list4=[]\n",
        "for i in range(1, X.shape[0]):\n",
        "  p_2=X[i, :]\n",
        "  l=wasserstein_distance(p_1, p_2)\n",
        "  p_1=p_2\n",
        "  l_list4.append(l)\n",
        "l_list4.append(l)\n",
        "l_list4.append(l)"
      ],
      "execution_count": null,
      "outputs": []
    },
    {
      "cell_type": "code",
      "metadata": {
        "id": "by3PCN5UDJx2"
      },
      "source": [
        "X = pd.read_csv('/content/drive/MyDrive/Colab Notebooks/ML/New_version_copd/distance/matrixA/0_test_14.csv', header=None)\n",
        "X=np.array(X)\n",
        "X=X[:, 0:144]\n",
        "p_1=X[0, :]\n",
        "l_list0=[]\n",
        "for i in range(1, X.shape[0]):\n",
        "  p_2=X[i, :]\n",
        "  l=wasserstein_distance(p_1, p_2)\n",
        "  p_1=p_2\n",
        "  l_list0.append(l)\n",
        "l_list0.append(l)\n",
        "l_list0.append(l)"
      ],
      "execution_count": null,
      "outputs": []
    },
    {
      "cell_type": "code",
      "metadata": {
        "colab": {
          "base_uri": "https://localhost:8080/",
          "height": 287
        },
        "id": "ksfFzrb1ktU9",
        "outputId": "22693959-7df6-4b2c-c968-78d5456a5e93"
      },
      "source": [
        "plt.xticks(fontsize=13)\n",
        "plt.yticks(fontsize=13)\n",
        "plt.ylabel('Wasserstein distance',fontsize=15)\n",
        "plt.xlabel('Time of registeration signals (sec)',fontsize=15)\n",
        "plt.plot(epochs, smooth_curve(l_list0),color='lightgrey',label='Stage 0',alpha=1,linewidth=4)\n",
        "plt.plot(epochs, smooth_curve(l_list1),color='yellow',label='Stage 1', alpha=1,linewidth=4)\n",
        "plt.plot(epochs, smooth_curve(l_list2),c='gold', alpha=0.8,label='Stage 2', linewidth=4)\n",
        "plt.plot(epochs, smooth_curve(l_list3),c= 'darkorange', alpha=0.8,label='Stage 3', linewidth=4)\n",
        "plt.plot(epochs, smooth_curve(l_list4),c= 'red', alpha=0.8,label='Stage 4', linewidth=4)\n",
        "plt.legend(fontsize=15)\n",
        "plt.savefig(\"/content/drive/MyDrive/Colab Notebooks/ML/New_version_copd/distance/matrixA/con.pdf\", bbox_inches='tight')"
      ],
      "execution_count": null,
      "outputs": [
        {
          "output_type": "display_data",
          "data": {
            "image/png": "[encoded data removed]",
            "text/plain": [
              "<Figure size 432x288 with 1 Axes>"
            ]
          },
          "metadata": {
            "tags": [],
            "needs_background": "light"
          }
        }
      ]
    }
  ]
}